{
 "cells": [
  {
   "cell_type": "code",
   "execution_count": null,
   "metadata": {},
   "outputs": [],
   "source": [
    "import pandas as pd\n",
    "from sub import pdr\n",
    "\n",
    "GT_CSV_PATH = \"../dataset/gt/0_0_gt.csv\"\n",
    "GIS_BASE_PATH = \"../dataset/gis/\"\n",
    "FLOOR_NAMES = [\"FLU01\", \"FLU02\", \"FLD01\"]\n",
    "DX = 0.01\n",
    "DY = 0.01\n",
    "\n",
    "map_dict = pdr.load_floor_maps(FLOOR_NAMES, GIS_BASE_PATH)\n",
    "ground_truth_df = pd.read_csv(GT_CSV_PATH)"
   ]
  },
  {
   "cell_type": "code",
   "execution_count": null,
   "metadata": {},
   "outputs": [],
   "source": [
    "from sub import utils\n",
    "\n",
    "floor_name = ground_truth_df.floor[0]\n",
    "\n",
    "rename_ground_truth_df = ground_truth_df.rename(\n",
    "    columns={\n",
    "        \"%time\": \"ts\",\n",
    "        \"x\": \"x_displacement\",\n",
    "        \"y\": \"y_displacement\",\n",
    "    },\n",
    ")\n",
    "\n",
    "\n",
    "# マップの描画\n",
    "utils.plot_displacement_map(\n",
    "    map_dict,\n",
    "    floor_name,\n",
    "    DX,\n",
    "    DY,\n",
    "    rename_ground_truth_df,\n",
    "    fig_size=(7, 7),\n",
    ")"
   ]
  }
 ],
 "metadata": {
  "kernelspec": {
   "display_name": ".venv",
   "language": "python",
   "name": "python3"
  },
  "language_info": {
   "codemirror_mode": {
    "name": "ipython",
    "version": 3
   },
   "file_extension": ".py",
   "mimetype": "text/x-python",
   "name": "python",
   "nbconvert_exporter": "python",
   "pygments_lexer": "ipython3",
   "version": "3.10.2"
  }
 },
 "nbformat": 4,
 "nbformat_minor": 2
}
