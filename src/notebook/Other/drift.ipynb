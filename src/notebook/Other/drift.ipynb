{
 "cells": [
  {
   "cell_type": "code",
   "execution_count": null,
   "metadata": {},
   "outputs": [],
   "source": [
    "import numpy as np\n",
    "import matplotlib.pyplot as plt\n",
    "\n",
    "\n",
    "# Parameters\n",
    "num_points = 1000\n",
    "step_size = 1\n",
    "\n",
    "# Ideal straight path\n",
    "x_ideal = np.linspace(0, num_points * step_size, num_points)\n",
    "y_ideal = np.zeros(num_points)\n",
    "\n",
    "# Drift parameters\n",
    "drift_rate_x = 0.02  # Drift per step in x-direction\n",
    "drift_rate_y = 0.02  # Drift per step in y-direction\n",
    "\n",
    "# Path with drift\n",
    "x_drift = []\n",
    "y_drift = []\n",
    "drift_x = 0\n",
    "drift_y = 0\n",
    "\n",
    "for i in range(num_points):\n",
    "    drift_x += drift_rate_x\n",
    "    drift_y += drift_rate_y\n",
    "    x_drift.append(i * step_size + drift_x)\n",
    "    y_drift.append(drift_y)\n",
    "\n",
    "# Plotting the paths\n",
    "plt.figure(figsize=(10, 5))\n",
    "plt.plot(x_ideal, y_ideal, label=\"Ideal Path\")\n",
    "plt.plot(x_drift, y_drift, label=\"Path with Drift\", linestyle=\"--\")\n",
    "plt.xlabel(\"X\")\n",
    "plt.ylabel(\"Y\")\n",
    "plt.title(\"Ideal Path vs. Path with Drift (Straight Line)\")\n",
    "plt.legend()\n",
    "plt.grid()\n",
    "plt.axis(\"equal\")\n",
    "# Set axis limits\n",
    "plt.xlim(0, 300)\n",
    "plt.ylim(-10, 10)\n",
    "\n",
    "plt.show()"
   ]
  }
 ],
 "metadata": {
  "kernelspec": {
   "display_name": ".venv",
   "language": "python",
   "name": "python3"
  },
  "language_info": {
   "codemirror_mode": {
    "name": "ipython",
    "version": 3
   },
   "file_extension": ".py",
   "mimetype": "text/x-python",
   "name": "python",
   "nbconvert_exporter": "python",
   "pygments_lexer": "ipython3",
   "version": "3.10.0"
  }
 },
 "nbformat": 4,
 "nbformat_minor": 2
}
