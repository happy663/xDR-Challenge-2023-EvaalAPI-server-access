{
 "cells": [
  {
   "cell_type": "code",
   "execution_count": null,
   "metadata": {},
   "outputs": [],
   "source": [
    "import importlib\n",
    "\n",
    "import matplotlib.pyplot as plt\n",
    "import numpy as np\n",
    "import pandas as pd\n",
    "from sub import estimate\n",
    "\n",
    "importlib.reload(estimate)\n",
    "\n",
    "plt.rcParams[\"figure.figsize\"] = (6, 3)\n",
    "pd.set_option(\"display.max_rows\", None)\n",
    "pd.set_option(\"display.max_columns\", None)"
   ]
  },
  {
   "cell_type": "code",
   "execution_count": null,
   "metadata": {},
   "outputs": [],
   "source": [
    "# LOG_FILE_PATH = \"../trials/Track5_second_evaluation_01_pdr.txt\"\n",
    "LOG_FILE_PATH = \"../dataset/trials/4_1_51_pdr.txt\"\n",
    "GIS_BASE_PATH = \"../dataset/gis/\"\n",
    "BEACON_LIST_PATH = GIS_BASE_PATH + \"beacon_list.csv\"\n",
    "FLOOR_NAMES = [\"FLU01\", \"FLU02\", \"FLD01\"]"
   ]
  },
  {
   "cell_type": "code",
   "execution_count": null,
   "metadata": {},
   "outputs": [],
   "source": [
    "from sub import pdr\n",
    "\n",
    "importlib.reload(pdr)\n",
    "\n",
    "data = pdr.read_log_data(LOG_FILE_PATH)\n",
    "acc_df, gyro_df, mgf_df, ground_truth_df, blescans_df = pdr.convert_to_dataframes(data)"
   ]
  },
  {
   "cell_type": "code",
   "execution_count": null,
   "metadata": {},
   "outputs": [],
   "source": [
    "plt.plot(acc_df.ts, acc_df[[\"x\", \"y\", \"z\"]], label=[\"x\", \"y\", \"z\"])\n",
    "plt.xlabel(\"timestamp (s)\")\n",
    "plt.ylabel(\"acceleration ($m/s^2$)\")\n",
    "plt.title(\"Accelerometer\")\n",
    "plt.show()"
   ]
  },
  {
   "cell_type": "code",
   "execution_count": null,
   "metadata": {},
   "outputs": [],
   "source": [
    "acc_df[\"norm\"] = np.sqrt(acc_df[\"x\"] ** 2 + acc_df[\"y\"] ** 2 + acc_df[\"z\"] ** 2)\n",
    "acc_df.reset_index()\n",
    "\n",
    "plt.plot(acc_df.ts, acc_df[\"norm\"])\n",
    "plt.xlabel(\"timestamp (s)\")\n",
    "plt.ylabel(\"acceleration ($m/s^2$)\")\n",
    "plt.title(\"Accelerometer Norm\")\n",
    "plt.show()"
   ]
  },
  {
   "cell_type": "code",
   "execution_count": null,
   "metadata": {},
   "outputs": [],
   "source": [
    "# ジャイロ\n",
    "plt.plot(gyro_df.ts, gyro_df[\"x\"])\n",
    "plt.xlabel(\"timestamp (s)\")\n",
    "plt.ylabel(\"angular velocity ($rad/s$)\")\n",
    "plt.title(\"Gyroscope\")\n",
    "plt.show()"
   ]
  },
  {
   "cell_type": "code",
   "execution_count": null,
   "metadata": {},
   "outputs": [],
   "source": [
    "# 角速度を積分して角度に変換\n",
    "angle_df = estimate.convert_to_angle_from_gyro(gyro_df)\n",
    "\n",
    "print(angle_df.head())\n",
    "\n",
    "# 角度のデータをplot\n",
    "plt.plot(angle_df.ts, angle_df[\"x\"])\n",
    "plt.xlabel(\"timestamp (s)\")\n",
    "plt.ylabel(\"angle ($rad$)\")\n",
    "plt.title(\"Angle\")\n",
    "plt.show()"
   ]
  },
  {
   "cell_type": "code",
   "execution_count": null,
   "metadata": {},
   "outputs": [],
   "source": [
    "from scipy.signal import find_peaks\n",
    "\n",
    "acc_df[\"norm\"] = np.sqrt(acc_df[\"x\"] ** 2 + acc_df[\"y\"] ** 2 + acc_df[\"z\"] ** 2)\n",
    "acc_df[\"rolling_norm\"] = acc_df[\"norm\"].rolling(10).mean()\n",
    "\n",
    "peaks, _ = find_peaks(acc_df[\"rolling_norm\"], height=12, distance=10)\n",
    "\n",
    "plt.plot(acc_df.ts, acc_df[\"rolling_norm\"])\n",
    "plt.plot(acc_df.ts[peaks], acc_df[\"rolling_norm\"][peaks], \"x\")\n",
    "plt.xlabel(\"timestamp (s)\")\n",
    "plt.ylabel(\"acceleration ($m/s^2$)\")\n",
    "plt.title(\"Accelerometer Norm\")\n",
    "plt.show()"
   ]
  }
 ],
 "metadata": {
  "kernelspec": {
   "display_name": "Python 3",
   "language": "python",
   "name": "python3"
  },
  "language_info": {
   "codemirror_mode": {
    "name": "ipython",
    "version": 3
   },
   "file_extension": ".py",
   "mimetype": "text/x-python",
   "name": "python",
   "nbconvert_exporter": "python",
   "pygments_lexer": "ipython3",
   "version": "3.10.0"
  },
  "orig_nbformat": 4
 },
 "nbformat": 4,
 "nbformat_minor": 2
}
