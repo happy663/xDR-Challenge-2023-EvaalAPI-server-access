{
 "cells": [
  {
   "cell_type": "code",
   "execution_count": null,
   "metadata": {},
   "outputs": [],
   "source": [
    "from __future__ import annotations\n",
    "\n",
    "import importlib\n",
    "import sys\n",
    "from pathlib import Path\n",
    "\n",
    "import matplotlib.pyplot as plt\n",
    "import pandas as pd\n",
    "\n",
    "sys.path.append(str(Path(\"__file__\").resolve().parent.parent.parent))\n",
    "\n",
    "from sub import estimate\n",
    "\n",
    "importlib.reload(estimate)\n",
    "\n",
    "plt.rcParams[\"figure.figsize\"] = (16.0, 6.0)\n",
    "pd.set_option(\"display.max_rows\", None)\n",
    "pd.set_option(\"display.max_columns\", None)\n",
    "\n",
    "LOG_FILE_PATH = \"../../../dataset/sample_trials/4_1_51.txt\"\n",
    "GIS_BASE_PATH = \"../../../dataset/gis/\"\n",
    "BEACON_LIST_PATH = GIS_BASE_PATH + \"beacon_list.csv\"\n",
    "FLOOR_NAMES = [\"FLU01\", \"FLU02\", \"FLD01\"]\n",
    "fig_size = (5, 5)\n",
    "# 1 pixel of bmp represents 0.01 m\n",
    "dx = 0.01\n",
    "dy = 0.01"
   ]
  },
  {
   "cell_type": "code",
   "execution_count": null,
   "metadata": {},
   "outputs": [],
   "source": [
    "from sub import pdr, utils\n",
    "\n",
    "ble_positions_df = pd.read_csv(BEACON_LIST_PATH)\n",
    "map_dict = pdr.load_floor_maps(FLOOR_NAMES, GIS_BASE_PATH)"
   ]
  }
 ],
 "metadata": {
  "kernelspec": {
   "display_name": ".venv",
   "language": "python",
   "name": "python3"
  },
  "language_info": {
   "codemirror_mode": {
    "name": "ipython",
    "version": 3
   },
   "file_extension": ".py",
   "mimetype": "text/x-python",
   "name": "python",
   "nbconvert_exporter": "python",
   "pygments_lexer": "ipython3",
   "version": "3.10.0"
  }
 },
 "nbformat": 4,
 "nbformat_minor": 2
}
